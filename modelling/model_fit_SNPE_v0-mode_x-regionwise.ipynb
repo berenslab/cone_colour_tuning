{
 "cells": [
  {
   "cell_type": "code",
   "execution_count": 1,
   "metadata": {},
   "outputs": [
    {
     "name": "stdout",
     "output_type": "stream",
     "text": [
      "3.8.0\n"
     ]
    },
    {
     "name": "stderr",
     "output_type": "stream",
     "text": [
      "Can not use cuDNN on context None: cannot compile with cuDNN. We got this error:\n",
      "b'In file included from /tmp/try_flags_ka6bp70t.c:4:0:\\n/usr/include/cudnn.h:56:10: fatal error: cuda_runtime.h: No such file or directory\\n #include <cuda_runtime.h>\\n          ^~~~~~~~~~~~~~~~\\ncompilation terminated.\\n'\n",
      "Mapped name None to device cuda: NVIDIA GeForce RTX 2080 Ti (0000:2F:00.0)\n"
     ]
    }
   ],
   "source": [
    "import numpy as np\n",
    "import scipy as scp\n",
    "\n",
    "import matplotlib.pyplot as plt\n",
    "%matplotlib inline\n",
    "import seaborn as sns\n",
    "\n",
    "import pandas as pd\n",
    "\n",
    "import sys\n",
    "\n",
    "\n",
    "import ipywidgets as widgets\n",
    "\n",
    "import datetime\n",
    "\n",
    "import warnings\n",
    "\n",
    "import multiprocessing\n",
    "import h5py\n",
    "import pickle\n",
    "\n",
    "\n",
    "\"\"\"\n",
    "check python version\n",
    "\"\"\"\n",
    "import platform\n",
    "     \n",
    "print(platform.python_version())\n",
    "\n",
    "\"\"\"\n",
    "make anaconda available\n",
    "\"\"\"\n",
    "import sys\n",
    "\n",
    "\n",
    "\n",
    "\"\"\"\n",
    "create environmental variable \"MKL_THREADING_LAYER\"\n",
    "\"\"\"\n",
    "import os\n",
    "os.environ[\"MKL_THREADING_LAYER\"] = \"GNU\"\n",
    "\n",
    "\n",
    "\"\"\"\n",
    "check theano version and config file\n",
    "\"\"\"\n",
    "import theano\n",
    "#print(theano.__version__)\n",
    "#print(theano.config)\n",
    "\n",
    "\n",
    "\"\"\"\n",
    "import  Delfi package\n",
    "\"\"\"\n",
    "sys.path.append('/gpfs01/berens/user/cschroeder/Documents/Ribbon_PR_project/delfi')\n",
    "import delfi\n",
    "import delfi.distribution as dd\n",
    "from delfi.inference import SNPE\n",
    "from delfi.simulator.BaseSimulator import BaseSimulator\n",
    "from delfi.summarystats import Identity\n",
    "from delfi.generator import Default\n",
    "from delfi.generator.BaseGenerator import BaseGenerator\n",
    "\n",
    "#from delfi.distribution import MixedDistribution\n",
    "from delfi import kernel\n",
    "from delfi.kernel.BaseKernel import BaseKernel\n",
    "from delfi.summarystats.BaseSummaryStats import BaseSummaryStats\n",
    "\n"
   ]
  },
  {
   "cell_type": "code",
   "execution_count": 2,
   "metadata": {},
   "outputs": [
    {
     "data": {
      "text/plain": [
       "'0.5.1'"
      ]
     },
     "execution_count": 2,
     "metadata": {},
     "output_type": "execute_result"
    }
   ],
   "source": [
    "delfi.__version__"
   ]
  },
  {
   "cell_type": "code",
   "execution_count": 2,
   "metadata": {},
   "outputs": [
    {
     "name": "stdout",
     "output_type": "stream",
     "text": [
      "[GpuElemwise{exp,no_inplace}(<GpuArrayType<None>(float32, vector)>), HostFromGpu(gpuarray)(GpuElemwise{exp,no_inplace}.0)]\n",
      "Looping 500 times took 0.205758 seconds\n",
      "Result is [1.2317803 1.6187935 1.5227807 ... 2.2077181 2.2996776 1.623233 ]\n",
      "Used the gpu\n"
     ]
    }
   ],
   "source": [
    "\"\"\"\n",
    "test to check if gpu is used\n",
    "\"\"\"\n",
    "\n",
    "from theano import function, config, shared, tensor\n",
    "import numpy\n",
    "import time\n",
    "\n",
    "vlen = 10 * 30 * 768  # 10 x #cores x # threads per core\n",
    "iters = 500\n",
    "\n",
    "rng = numpy.random.RandomState(22)\n",
    "x = shared(numpy.asarray(rng.rand(vlen), config.floatX))\n",
    "f = function([], tensor.exp(x))\n",
    "print(f.maker.fgraph.toposort())\n",
    "t0 = time.time()\n",
    "for i in range(iters):\n",
    "    r = f()\n",
    "t1 = time.time()\n",
    "print(\"Looping %d times took %f seconds\" % (iters, t1 - t0))\n",
    "print(\"Result is %s\" % (r,))\n",
    "if numpy.any([isinstance(x.op, tensor.Elemwise) and\n",
    "              ('Gpu' not in type(x.op).__name__)\n",
    "              for x in f.maker.fgraph.toposort()]):\n",
    "    print('Used the cpu')\n",
    "else:\n",
    "    print('Used the gpu')"
   ]
  },
  {
   "cell_type": "markdown",
   "metadata": {},
   "source": [
    "### load data"
   ]
  },
  {
   "cell_type": "code",
   "execution_count": 3,
   "metadata": {},
   "outputs": [
    {
     "name": "stdout",
     "output_type": "stream",
     "text": [
      "info: cone signals under normal and rescaled conditions. In order R,G,B,UV, aligned to wavelength axis. Same for opsins.\n"
     ]
    }
   ],
   "source": [
    "# load data\n",
    "\n",
    "# open file\n",
    "f = h5py.File(\"data_reextracted.hdf5\", \"r\")\n",
    "\n",
    "wave_normal = np.array(f['wave_control'])\n",
    "wave_blocked = np.array(f['wave_blocked'])\n",
    "wavelength = np.array(f['wavelength'])\n",
    "opsins = np.array(f['opsins'])\n",
    "\n",
    "for item in f.attrs:\n",
    "    print(item, f.attrs[item])\n",
    "\n",
    "f.close()\n",
    "\n",
    "wave_blocked_raw = np.copy(wave_blocked)\n",
    "wave_control_raw = np.copy(wave_normal)\n",
    "opsins_raw = np.copy(opsins)\n",
    "\n",
    "# normalizing\n",
    "for i in range(4):\n",
    "    wave_blocked[i] = wave_blocked[i] - np.min(wave_blocked[i])\n",
    "    wave_blocked[i] = wave_blocked[i] / np.max(abs(wave_blocked[i]))\n",
    "    \n",
    "    wave_normal[i] = wave_normal[i] / np.max(abs(wave_normal[i]))\n",
    "    \n",
    "    opsins[i] =  opsins[i] - np.max(opsins[i])\n",
    "    opsins[i] =  opsins[i] / np.min(opsins[i])\n",
    "\n"
   ]
  },
  {
   "cell_type": "code",
   "execution_count": 4,
   "metadata": {},
   "outputs": [
    {
     "data": {
      "text/plain": [
       "Text(0.5, 0, 'wavelength')"
      ]
     },
     "execution_count": 4,
     "metadata": {},
     "output_type": "execute_result"
    },
    {
     "data": {
      "image/png": "[encoded data removed]",
      "text/plain": [
       "<Figure size 864x576 with 1 Axes>"
      ]
     },
     "metadata": {
      "needs_background": "light"
     },
     "output_type": "display_data"
    }
   ],
   "source": [
    "colors = ['r', 'g', 'b','violet' ]\n",
    "\n",
    "\n",
    "plt.figure(figsize=(12,8))\n",
    "\n",
    "plt.title('-- blocked HC, __ cotrol, ... opsins')\n",
    "for i in range(4):\n",
    "    plt.plot(wavelength, wave_blocked_raw[i], '--', color=colors[i], label='blocked')\n",
    "    #plt.plot(wavelength, opsins[i], ':', color=colors[i], label='opsins')\n",
    "\n",
    "\n",
    "for i in range(4):\n",
    "    plt.plot(wavelength, wave_control_raw[i], color=colors[i], label='control condition')\n",
    "\n",
    "plt.ylabel('intensity')\n",
    "plt.xlabel('wavelength')\n",
    "#plt.legend()"
   ]
  },
  {
   "cell_type": "code",
   "execution_count": 4,
   "metadata": {},
   "outputs": [
    {
     "name": "stdout",
     "output_type": "stream",
     "text": [
      "R-Cone recordings - control_merged.csv\n",
      "G-Cone recordings - control_merged.csv\n",
      "B-Cone recordings - control_merged.csv\n",
      "U-Cone recordings - control_merged.csv\n"
     ]
    }
   ],
   "source": [
    "\"\"\"\n",
    "load zone specific data\n",
    "\"\"\"\n",
    "\n",
    "filepath = '../data/all_cone_recordings/csvs/'\n",
    "filenames = ['R-Cone recordings - control_merged.csv',\n",
    "            'G-Cone recordings - control_merged.csv',\n",
    "            'B-Cone recordings - control_merged.csv',\n",
    "            'U-Cone recordings - control_merged.csv']\n",
    "\n",
    "df_zones = pd.DataFrame()\n",
    "for item in filenames:\n",
    "    print(item)\n",
    "    filename = filepath + item\n",
    "    df1 = pd.read_csv(filename, sep=';',decimal=',')\n",
    "    df_zones = df_zones.append(df1)\n",
    "\n",
    "\n",
    "# convert to floats\n",
    "for item in df_zones.columns[:13]:\n",
    "    df_zones[item] = (df_zones[item].replace(',','.', regex=True).astype(float))\n",
    "    \n",
    "\n",
    "# load LED wavelenghts\n",
    "filename = filepath + 'LED wavelength.csv'\n",
    "led_wavelength =  pd.read_csv(filename, sep=';',decimal=',')\n",
    "   \n",
    "    \n",
    "    \n",
    "    \n",
    "\"\"\"\n",
    "preprocess data\n",
    "\"\"\"\n",
    "zones = ['SZ','Nasal','Dorsal','Ventral']\n",
    "\n",
    "control_regionwise = np.zeros((4,4,296))\n",
    "control_all_new = np.zeros((4,296))\n",
    "\n",
    "\n",
    "for region_nr, region in enumerate(zones):\n",
    "    for cone_nr, cone_type in enumerate(['R','G','B','U']):\n",
    "\n",
    "        # get data\n",
    "        data = df_zones[(df_zones.region==region)&(df_zones.cone_type==cone_type)].values[:,:13]\n",
    "        data_all = df_zones[(df_zones.cone_type==cone_type)].values[:,:13]\n",
    "\n",
    "        # interpolate\n",
    "        data = scp.interpolate.interp1d(led_wavelength.Wavelength.values,data.mean(0))(wavelength)\n",
    "        data_all = scp.interpolate.interp1d(led_wavelength.Wavelength.values,data_all.mean(0))(wavelength)\n",
    "\n",
    "        # normalize\n",
    "        data = -data / np.max(abs(data))\n",
    "        data_all = -data_all / np.max(abs(data_all))\n",
    "        \n",
    "        # put to dataframe\n",
    "        control_regionwise[region_nr, cone_nr] = data\n",
    "        control_all_new[cone_nr] = data_all\n",
    "\n",
    "\n",
    "\n"
   ]
  },
  {
   "cell_type": "code",
   "execution_count": 53,
   "metadata": {},
   "outputs": [
    {
     "name": "stdout",
     "output_type": "stream",
     "text": [
      "R-Cone recordings - HCblock - regions_merged.csv\n",
      "G-Cone recordings - HCblock - regions_merged.csv\n",
      "B-Cone recordings - HCblock - regions_merged.csv\n",
      "U-Cone recordings - HCblock - regions_merged.csv\n"
     ]
    }
   ],
   "source": [
    "\"\"\"\n",
    "and cone specifig HC_block\n",
    "\"\"\"\n",
    "\n",
    "filepath = '../data/all_cone_recordings/csvs/'\n",
    "filenames = ['R-Cone recordings - HCblock - regions_merged.csv',\n",
    "            'G-Cone recordings - HCblock - regions_merged.csv',\n",
    "            'B-Cone recordings - HCblock - regions_merged.csv',\n",
    "            'U-Cone recordings - HCblock - regions_merged.csv']\n",
    "             \n",
    "df_zones_block = pd.DataFrame()\n",
    "for item in filenames:\n",
    "    print(item)\n",
    "    filename = filepath + item\n",
    "    df1 = pd.read_csv(filename, sep=';',decimal=',')\n",
    "    df_zones_block = df_zones.append(df1)\n",
    "\n",
    "\n",
    "# convert to floats\n",
    "for item in df_zones.columns[:13]:\n",
    "    df_zones_block[item] = (df_zones_block[item].replace(',','.', regex=True).astype(float))\n",
    "    \n",
    "    \n",
    "\"\"\"\n",
    "preprocess data\n",
    "\"\"\"\n",
    "zones = ['SZ','Nasal','Dorsal','Ventral']\n",
    "\n",
    "block_regionwise = np.zeros((4,4,296))\n",
    "block_all_new = np.zeros((4,296))\n",
    "\n",
    "\n",
    "for region_nr, region in enumerate(zones):\n",
    "    for cone_nr, cone_type in enumerate(['R','G','B','U']):\n",
    "\n",
    "        # get data\n",
    "        data = df_zones_block[(df_zones_block.region==region)&(df_zones_block.cone_type==cone_type)].values[:,:13]\n",
    "        data_all = df_zones_block[(df_zones_block.cone_type==cone_type)].values[:,:13]\n",
    "\n",
    "        # interpolate\n",
    "        data = scp.interpolate.interp1d(led_wavelength.Wavelength.values,data.mean(0))(wavelength)\n",
    "        data_all = scp.interpolate.interp1d(led_wavelength.Wavelength.values,data_all.mean(0))(wavelength)\n",
    "\n",
    "        # normalize\n",
    "        \n",
    "        data = -data -np.min(-data)\n",
    "        data /= np.max(abs(data))\n",
    "        \n",
    "        data_all = -data_all  -np.min(-data_all)\n",
    "\n",
    "        data_all /= np.max(abs(data_all))\n",
    "        \n",
    "        # put to dataframe\n",
    "        block_regionwise[region_nr, cone_nr] = data\n",
    "        block_all_new[cone_nr] = data_all\n"
   ]
  },
  {
   "cell_type": "code",
   "execution_count": 54,
   "metadata": {},
   "outputs": [
    {
     "data": {
      "text/plain": [
       "<matplotlib.legend.Legend at 0x7f9ab6d90df0>"
      ]
     },
     "execution_count": 54,
     "metadata": {},
     "output_type": "execute_result"
    },
    {
     "data": {
      "image/png": "[encoded data removed]",
      "text/plain": [
       "<Figure size 432x288 with 1 Axes>"
      ]
     },
     "metadata": {
      "needs_background": "light"
     },
     "output_type": "display_data"
    }
   ],
   "source": [
    "\"\"\"\n",
    "see all regions for one type\n",
    "\"\"\"\n",
    "cone_type = 2\n",
    "for i in range(4):\n",
    "    plt.plot(wavelength, control_regionwise[i,cone_type], label=zones[i])\n",
    "plt.plot(wavelength, \n",
    "         control_all_new[cone_type], \n",
    "         label='overall mean',\n",
    "         color='red',ls='--')\n",
    "\n",
    "plt.plot(wavelength,wave_normal[cone_type], ls='--', label='old')\n",
    "\n",
    "plt.legend()"
   ]
  },
  {
   "cell_type": "code",
   "execution_count": 58,
   "metadata": {},
   "outputs": [
    {
     "data": {
      "text/plain": [
       "<matplotlib.legend.Legend at 0x7f9ab6c30cd0>"
      ]
     },
     "execution_count": 58,
     "metadata": {},
     "output_type": "execute_result"
    },
    {
     "data": {
      "image/png": "[encoded data removed]",
      "text/plain": [
       "<Figure size 432x288 with 1 Axes>"
      ]
     },
     "metadata": {
      "needs_background": "light"
     },
     "output_type": "display_data"
    }
   ],
   "source": [
    "\"\"\"\n",
    "see all regions for one type\n",
    "\"\"\"\n",
    "cone_type = 3\n",
    "for i in range(4):\n",
    "    plt.plot(wavelength, block_regionwise[i,cone_type], label=zones[i])\n",
    "plt.plot(wavelength, \n",
    "         block_all_new[cone_type], \n",
    "         label='overall mean',\n",
    "         color='red',ls='--')\n",
    "\n",
    "plt.plot(wavelength,wave_blocked[cone_type], ls='--', label='old')\n",
    "\n",
    "plt.legend()"
   ]
  },
  {
   "cell_type": "code",
   "execution_count": 59,
   "metadata": {},
   "outputs": [],
   "source": [
    "\"\"\"\n",
    "load model\n",
    "\"\"\"\n",
    "\n",
    "from hc_model import run_model_hc\n",
    "from hc_model import extract_params\n",
    "\n",
    "\n",
    "# specify modes\n",
    "modes = [['HC0', 'HC1', 'HC2'],\n",
    " ['HC0', 'HC1'],\n",
    " ['HC0', 'HC2'],\n",
    " ['HC1', 'HC2'],\n",
    " ['HC0'],\n",
    " ['HC1'],\n",
    " ['HC2'],\n",
    " 'special']\n",
    "\n",
    "\n",
    "\n",
    "# number of params per mode\n",
    "#mode_params = [11,8,7,7,4,4,3]\n",
    "mode_params = [12,9,8,7,5,4,3,13]\n",
    "\n"
   ]
  },
  {
   "cell_type": "code",
   "execution_count": 7,
   "metadata": {},
   "outputs": [],
   "source": [
    "\"\"\"\n",
    "run without HC\n",
    "\"\"\"\n",
    "\n",
    "o = opsins\n",
    "\n",
    "# connectivity pattern\n",
    "# initialize by c for found connections\n",
    "const = 1\n",
    "w = np.zeros((3,4))\n",
    "#w[0,0]= const\n",
    "#w[0,1] = const\n",
    "#w[0,2] = const\n",
    "#w[1,1] = const\n",
    "#w[1,2] = const\n",
    "#w[1,3] = const\n",
    "#w[2,2] = const\n",
    "#w[2,3] = const\n",
    "\n",
    "# synaptic (output) strength per HC (HC_j -> cone) (constant over the different cone types)\n",
    "a = np.zeros(3)\n",
    "\n",
    "# dark current (can also be seen as synaptic strength cone_i -> HC )\n",
    "# fixed here\n",
    "dc = np.ones(4)\n",
    "#dc[0] = dc0\n",
    "#dc[1] = dc1\n",
    "#dc[2] = 0.5\n",
    "#dc[3] = 2\n",
    "    \n",
    "\n",
    "\n",
    "k_no_HC = run_model_hc(wave_blocked,w, dc,a, N=200)\n",
    "\n",
    "#loss_noHC = get_loss(k_data,k_no_HC)"
   ]
  },
  {
   "cell_type": "code",
   "execution_count": 8,
   "metadata": {},
   "outputs": [
    {
     "data": {
      "text/plain": [
       "(4, 296)"
      ]
     },
     "execution_count": 8,
     "metadata": {},
     "output_type": "execute_result"
    }
   ],
   "source": [
    "k_no_HC.shape"
   ]
  },
  {
   "cell_type": "code",
   "execution_count": 9,
   "metadata": {},
   "outputs": [
    {
     "data": {
      "text/plain": [
       "[<matplotlib.lines.Line2D at 0x7f8ed4fb2a60>]"
      ]
     },
     "execution_count": 9,
     "metadata": {},
     "output_type": "execute_result"
    },
    {
     "data": {
      "image/png": "[encoded data removed]",
      "text/plain": [
       "<Figure size 432x288 with 1 Axes>"
      ]
     },
     "metadata": {
      "needs_background": "light"
     },
     "output_type": "display_data"
    }
   ],
   "source": [
    "plt.plot(k_no_HC[1])"
   ]
  },
  {
   "cell_type": "code",
   "execution_count": 60,
   "metadata": {
    "code_folding": [
     26,
     194
    ]
   },
   "outputs": [],
   "source": [
    "\"\"\"\n",
    "!!!! model output is 4x296 !!!\n",
    "\"\"\"\n",
    "\n",
    "def run_model_x(params, o, mode, N=200):\n",
    "    \"\"\"\n",
    "    helper to extract parameters\n",
    "    and set params 0 if negative\n",
    "    \"\"\"\n",
    "    \n",
    "    w,dc,a = extract_params(params,mode)\n",
    "    \n",
    "    # set to 0 if negative\n",
    "    w[w<0] = 0 \n",
    "    dc[dc<0] = 0 \n",
    "    a[a<0] = 0 \n",
    "    \n",
    "    \n",
    "    k_fit = run_model_hc(o,w,dc,a,N=N)\n",
    "    \n",
    "    return k_fit #, baseline_store\n",
    "\n",
    "\"\"\"\n",
    "own generator class\n",
    "\"\"\"\n",
    "\n",
    "class myGenerator(BaseGenerator):\n",
    "    def __init__(self, *args, gen_minibatch, **kwargs):\n",
    "        super().__init__(*args, **kwargs)\n",
    "        self.gen_minibatch = gen_minibatch\n",
    "\n",
    "    def gen(self, *args, **kwargs):\n",
    "        if 'minibatch' in kwargs:\n",
    "            minibatch = kwargs.pop('minibatch')\n",
    "        else:\n",
    "            minibatch = self.gen_minibatch\n",
    "        return super().gen(*args, minibatch=minibatch, **kwargs)\n",
    "\n",
    "\n",
    "\"\"\"\n",
    "Define simulator class\n",
    "\"\"\"\n",
    "\n",
    "class HC_Class(BaseSimulator):\n",
    "    def __init__(self, simulator, opsins, mode, dim=1, seed=None):\n",
    "        \"\"\"\n",
    "        Model of HC cone interaction in zebrafish\n",
    "        Parameters\n",
    "        ----------\n",
    "        \n",
    "        seed : int or None\n",
    "            If set, randomness is seeded\n",
    "        \"\"\"\n",
    "        super().__init__(dim_param=dim, seed=seed)\n",
    "        self.opsins = opsins\n",
    "        self.simulate1 = simulator \n",
    "        self.mode = mode\n",
    "        \n",
    "        \n",
    "    def gen_single(self, params):\n",
    "        \"\"\"\n",
    "        run one simulation of the model\n",
    "        ------\n",
    "        params : 1 dim array\n",
    "        \"\"\"        \n",
    "        params = np.asarray(params).reshape(-1)\n",
    "        assert params.ndim == 1\n",
    "        assert params.shape[0] == self.dim_param\n",
    "\n",
    "\n",
    "        sample = self.simulate1( params, self.opsins, self.mode)\n",
    "\n",
    "        return {'data': sample.reshape(-1)}\n",
    "\n",
    "    def run_parallel(self, *params):\n",
    "        \"\"\"\n",
    "        runs simNormalized in a for loop, with n = len(params)\n",
    "        to be used in multiprocessing - starmap\n",
    "        \"\"\"\n",
    "        #print(len(params))\n",
    "        result = []\n",
    "        for i in range(0,len(params)):\n",
    "            result_single = self.simulate1(params[i], self.opsins, self.mode)\n",
    "            result.append({'data':result_single.reshape(-1)})\n",
    "        return result\n",
    "    \n",
    "    '''    \n",
    "    # from base class\n",
    "    def gen(self, params_list, n_reps=1, pbar=None):\n",
    "        \"\"\"Forward model for simulator for list of parameters\n",
    "        Parameters\n",
    "        ----------\n",
    "        params_list : list of lists or 1-d np.arrays\n",
    "            List of parameter vectors, each of which will be simulated\n",
    "        n_reps : int\n",
    "            If greater than 1, generate multiple samples given param\n",
    "        pbar : tqdm.tqdm or None\n",
    "            If None, will do nothing. Otherwise it will call pbar.update(1)\n",
    "            after each sample.\n",
    "        Returns\n",
    "        -------\n",
    "        data_list : list of lists containing n_reps dicts with data\n",
    "            Repetitions are runs with the same parameter set, different\n",
    "            repetitions. Each dictionary must contain a key data that contains\n",
    "            the results of the forward run. Additional entries can be present.\n",
    "        \"\"\"\n",
    "        data_list = []\n",
    "        for param in params_list:\n",
    "            rep_list = []\n",
    "            for r in range(n_reps):\n",
    "                rep_list.append(self.gen_single(param))\n",
    "            data_list.append(rep_list)\n",
    "            if pbar is not None:\n",
    "                pbar.update(1)\n",
    "\n",
    "        return data_list\n",
    "    '''\n",
    "        \n",
    "\n",
    "    \n",
    "    \n",
    "    # adapted gen for parallel processing\n",
    "    # n_reps > 1 not yet implemented!!!\n",
    "    def gen(self, params_list, n_reps=1, pbar=None, verbose = False, skip_feedback=False, prior_mixin=0,\n",
    "            minibatch=100, keep_data=True, from_prior=False,):\n",
    "        \"\"\"Forward model for simulator for list of parameters\n",
    "        Parameters\n",
    "        ----------\n",
    "        params_list : list of lists or 1-d np.arrays\n",
    "            List of parameter vectors, each of which will be simulated\n",
    "        n_reps : int\n",
    "            If greater than 1, generate multiple samples given param\n",
    "                TODO: not yet implemented in parallel run!!!\n",
    "        pbar : tqdm.tqdm or None\n",
    "            If None, will do nothing. Otherwise it will call pbar.update(1)\n",
    "            after each sample.\n",
    "        Returns\n",
    "        -------\n",
    "        data_list : list of lists containing n_reps dicts with data\n",
    "            Repetitions are runs with the same parameter set, different\n",
    "            repetitions. Each dictionary must contain a key data that contains\n",
    "            the results of the forward run. Additional entries can be present.\n",
    "        \"\"\"\n",
    "        # specify used cpus (should be intelligently chosen to minibatchsize)\n",
    "        pr = 41 # 26\n",
    "        \n",
    "        # calc runs per cpu (last cpu is left for remainder of division)\n",
    "        singlejobs = round(np.shape(params_list)[0]/(pr-1))\n",
    "        \n",
    "        # reshape params_list\n",
    "        fitparams = list([])\n",
    "        for i in range(0,pr-1):\n",
    "            fitparams.append(params_list[i*singlejobs:(i+1)*singlejobs])\n",
    "        fitparams.append(params_list[(i+1)*singlejobs:])\n",
    "        # runs parallel the simulations\n",
    "        with multiprocessing.Pool(processes=pr) as pool:\n",
    "            JexoMult = pool.starmap(self.run_parallel, fitparams)\n",
    "        \n",
    "        \n",
    "        \n",
    "        # reshape the simulated data\n",
    "        data_list = []\n",
    "        for i in range(np.shape(JexoMult)[0]):\n",
    "            for j in range(np.shape(JexoMult[i])[0]):\n",
    "                rep_list = []\n",
    "                rep_list.append(JexoMult[i][j])\n",
    "                data_list.append(rep_list)\n",
    "                if pbar is not None:\n",
    "                    pbar.update(1)\n",
    "                \n",
    "        return data_list\n",
    "\n",
    "    \n",
    "    \n",
    "\n",
    "\n",
    "\"\"\"\n",
    "create summary statistics\n",
    "\"\"\"\n",
    "\n",
    "def mse(fit, data):\n",
    "    \"\"\"\n",
    "    compute sqrt(mse)!!!\n",
    "    \"\"\"\n",
    "    #mse = 1/(np.shape(data)[0]*np.shape(data)[1]) * np.sum((data - fit)**2)\n",
    "    mse =  np.mean((data - fit)**2) # * 1/(len(data)) \n",
    "    #if mse >20:\n",
    "    #    mse = 100\n",
    "    if np.isnan(mse):\n",
    "        #raise Warning('mse is Nan. Check your model.')\n",
    "        return 10e3\n",
    "    else:\n",
    "        return min(np.sqrt(mse), 10e3)\n",
    "\n",
    "class MseSS(BaseSummaryStats):\n",
    "    \"\"\"\n",
    "    Reduces data to mse\n",
    "    \"\"\"\n",
    "\n",
    "    def __init__(self, data, seed=None):\n",
    "        super().__init__(seed=seed)\n",
    "        # should return a matrix n_samples x 1 (mse)\n",
    "        self.n_summary = 1\n",
    "        self.data = data\n",
    "\n",
    "    @copy_ancestor_docstring\n",
    "    def calc(self, repetition_list):\n",
    "        # See BaseSummaryStats.py for docstring\n",
    "\n",
    "        # get the number of repetitions contained\n",
    "        n_reps = len(repetition_list)\n",
    "\n",
    "        # build a matrix of n_reps x 1\n",
    "        repetition_stats_matrix = np.zeros((n_reps, self.n_summary))\n",
    "\n",
    "        # for every repetition, take the mean of the data in the dict\n",
    "        for rep_idx, rep_dict in enumerate(repetition_list):\n",
    "            repetition_stats_matrix[rep_idx, ] = mse(rep_dict['data'], self.data)\n",
    "\n",
    "        return repetition_stats_matrix\n",
    "    \n",
    "    \n",
    "    \n"
   ]
  },
  {
   "cell_type": "code",
   "execution_count": 61,
   "metadata": {
    "code_folding": []
   },
   "outputs": [],
   "source": [
    "class DELFI_HC():\n",
    "    def  __init__(self, opsins, mode,  nparams, recorded_data):\n",
    "        self.opsins = opsins\n",
    "        self.mode = mode\n",
    "        self.nparams = nparams\n",
    "        self.recorded_data = recorded_data\n",
    "    \n",
    "    def initialize_model(self, prior):\n",
    "        \"\"\"initialize model\"\"\"\n",
    "            \n",
    "        # define prior\n",
    "        if prior =='gauss':\n",
    "            mean_start = np.ones(self.nparams)#*0.5\n",
    "            self.prior = dd.Gaussian(m = mean_start , S=np.eye(self.nparams)*0.25)\n",
    "            \n",
    "        elif prior == 'uniform':\n",
    "            self.prior = dd.Uniform(lower= np.zeros(nparams), upper= np.ones(nparams)*3)\n",
    "        else:\n",
    "            raise NameError('This prior is not yet implemented.')\n",
    "        \n",
    "        \n",
    "        # initialize summary statistics \n",
    "        self.s = MseSS(self.recorded_data) \n",
    "        \n",
    "        # initialize model\n",
    "        self.m = HC_Class(run_model_x, self.opsins, self.mode, dim=self.nparams)\n",
    "        self.generator = myGenerator(model= self.m, prior= self.prior, summary=self.s, gen_minibatch=1000) \n",
    "        #BaseGenerator(model= self.m, prior= self.prior, summary=self.s)\n",
    "     \n",
    "        \n",
    "        \n",
    "        \n",
    "        \n",
    "        ##########################################################################################\n",
    "        \n",
    "    def infer_params(self, rounds, n_train, x0 = None,\n",
    "                     save=True, filename = None, \n",
    "                     bw=1, q=None):\n",
    "\n",
    "        \"\"\"\n",
    "        run the inference algorithme in mulitple rounds\n",
    "        ---\n",
    "        params:\n",
    "        : rounds:    number of rounds\n",
    "        : nr_train:  number of samples per round (int or list of int) [100000, 10000]\n",
    "        : bw:        bandwidht of Gauss-kernel\n",
    "        \"\"\"\n",
    "        \n",
    "        folderpath = '/gpfs01/berens/user/cschroeder/Documents/Biophysical Models/Cone_HC_interaction/Delfi/fit_results/regionwise/'\n",
    "\n",
    "        \n",
    "        # raise error if no filename is specified\n",
    "        if save:\n",
    "            if filename == None:\n",
    "                raise NameError('No filename for saving specified.')\n",
    "                \n",
    "            filelist = os.listdir(folderpath)\n",
    "            \n",
    "            if filename in filelist:\n",
    "                raise NameError('Filename already exists.')\n",
    "        \n",
    "        # observed data \n",
    "        xo = x0 #np.array([x0])\n",
    "\n",
    "        starttime = datetime.datetime.now()\n",
    "        print('Starting time for inference:', starttime)\n",
    "\n",
    "        # set kernel\n",
    "        bandwidth = 0.5\n",
    "        kernel = delfi.kernel.StrechedGauss(xo, bandwidth=bandwidth) \n",
    "        \n",
    "        # initialize\n",
    "        inf_snpe = SNPE(generator=self.generator,\n",
    "                        prior_mixin=0, # mix additional N*prior_mixin samples into samples from proposal prior\n",
    "                        n_components=3, \n",
    "                        n_hiddens=[100,100], \n",
    "                        obs=xo,\n",
    "                        pseudo_obs_perc= 0.01, \n",
    "                        pseudo_obs_n= None,\n",
    "                        pseudo_obs_dim = 0,\n",
    "                        kernel_bandwidth_perc=20,\n",
    "                        kernel_bandwidth_n= None,\n",
    "                        kernel_bandwidth_min=None,\n",
    "                        pseudo_obs_use_all_data= False,\n",
    "                        pilot_samples=None, \n",
    "                        kernel=kernel, \n",
    "                        svi=False,\n",
    "                        reg_lambda=0.01, # precision parameter in svi, default 0.01\n",
    "                        impute_missing=True,\n",
    "                        init_trn_data_folder= mode,#'flashtds',\n",
    "                        verbose=True) \n",
    "        \n",
    "        #if changing_obs:\n",
    "        #    if not len(x0)==rounds:\n",
    "        #        raise NameError('length of x0  does not match the number of rounds.')\n",
    "                \n",
    "        \n",
    "        # returning loss of DNN, (params, simulations), posteriors (for each round)\n",
    "        logs, tds, posteriors = inf_snpe.run(n_train=n_train, \n",
    "                                             n_rounds=rounds, \n",
    "                                             proposal = self.prior, \n",
    "                                             epochs= 600,#800, \n",
    "                                             minibatch= 500, #500 \n",
    "                                             stop_on_nan=True,\n",
    "                                             monitor= None,  #{'missing':missing}, ????\n",
    "                                             round_cl=2) #init_trn_data_folder= 'flashtds_decay_singlerise_D1',\n",
    "        \n",
    "\n",
    "        runtime = datetime.datetime.now() - starttime\n",
    "        print('Runtime: ',runtime, ' in total' )\n",
    "        print()\n",
    "\n",
    "\n",
    "        if save:\n",
    "            \"\"\"\n",
    "            saving the posteriors\n",
    "            \"\"\"\n",
    "            filepath = folderpath+filename\n",
    "            info = '{} rounds, n_train = {} , SNPE, n_components=3, n_hiddens=[100,100],obs={}, 0.01pseudo_obs \\\n",
    "            pilot_samples=None, 600 epochs, minibatch=500, gauss prior,prior_mixin=0, bandwidth=20p, svi=False\\\n",
    "            kernel=gauss,SS=MSE, runtime: {:.5} min. prior=1,eye*0.25 '.format(rounds, samples,x0,runtime.total_seconds()/60)\n",
    "           \n",
    "            \n",
    "            saveobject = dict({'posterior': posteriors, \n",
    "                   'logs':logs,\n",
    "                   'SNPE_info': info,\n",
    "                  'tds':tds,\n",
    "                 'model':inf_snpe,\n",
    "                  'mode':mode})\n",
    "            pickle.dump( saveobject, open(filepath, \"wb\" ) )\n",
    "\n",
    "        return logs, tds, posteriors, inf_snpe"
   ]
  },
  {
   "cell_type": "code",
   "execution_count": 11,
   "metadata": {},
   "outputs": [
    {
     "data": {
      "text/plain": [
       "[['HC0', 'HC1', 'HC2'],\n",
       " ['HC0', 'HC1'],\n",
       " ['HC0', 'HC2'],\n",
       " ['HC1', 'HC2'],\n",
       " ['HC0'],\n",
       " ['HC1'],\n",
       " ['HC2'],\n",
       " 'special']"
      ]
     },
     "execution_count": 11,
     "metadata": {},
     "output_type": "execute_result"
    }
   ],
   "source": [
    "modes"
   ]
  },
  {
   "cell_type": "code",
   "execution_count": 62,
   "metadata": {},
   "outputs": [
    {
     "data": {
      "text/plain": [
       "(4, 296)"
      ]
     },
     "execution_count": 62,
     "metadata": {},
     "output_type": "execute_result"
    }
   ],
   "source": [
    "wave_blocked.shape"
   ]
  },
  {
   "cell_type": "code",
   "execution_count": 63,
   "metadata": {},
   "outputs": [
    {
     "data": {
      "text/plain": [
       "(4, 4, 296)"
      ]
     },
     "execution_count": 63,
     "metadata": {},
     "output_type": "execute_result"
    }
   ],
   "source": [
    "block_regionwise.shape"
   ]
  },
  {
   "cell_type": "code",
   "execution_count": 66,
   "metadata": {},
   "outputs": [
    {
     "name": "stdout",
     "output_type": "stream",
     "text": [
      "Starting time for inference: 2021-01-19 09:01:06.987136\n"
     ]
    },
    {
     "name": "stderr",
     "output_type": "stream",
     "text": [
      "/usr/local/lib/python3.8/dist-packages/numpy/core/_asarray.py:83: VisibleDeprecationWarning: Creating an ndarray from ragged nested sequences (which is a list-or-tuple of lists-or-tuples-or ndarrays with different lengths or shapes) is deprecated. If you meant to do this, you must specify 'dtype=object' when creating the ndarray\n",
      "  return array(a, dtype, copy=False, order=order)\n"
     ]
    },
    {
     "name": "stdout",
     "output_type": "stream",
     "text": [
      "\t 200000 samples requested.\n",
      "\tDrawing 200000 parameter samples ... \n",
      "\tDone after 9.016 min\n",
      "\tTraining network with observed:\n",
      "\t [0.271]\n",
      "\tand kernel bandwidth:\n",
      "\t [0.431]\n",
      "\tDone after 10.79 min\n",
      "\t 200000 samples requested.\n",
      "\tDrawing 200000 parameter samples ... \n",
      "\tDone after 12.23 min\n",
      "\tTraining network with observed:\n",
      "\t [0.148]\n",
      "\tand kernel bandwidth:\n",
      "\t [0.275]\n",
      "\tDone after 11.06 min\n",
      "\t 200000 samples requested.\n",
      "\tDrawing 200000 parameter samples ... \n",
      "\tDone after 12.15 min\n",
      "\tTraining network with observed:\n",
      "\t [0.124]\n",
      "\tand kernel bandwidth:\n",
      "\t [0.257]\n",
      "\tDone after 11.27 min\n",
      "\t 200000 samples requested.\n",
      "\tDrawing 200000 parameter samples ... \n",
      "\tDone after 12.17 min\n",
      "\tTraining network with observed:\n",
      "\t [0.119]\n",
      "\tand kernel bandwidth:\n",
      "\t [0.244]\n",
      "\tDone after 11.28 min\n",
      "\t 200000 samples requested.\n",
      "\tDrawing 200000 parameter samples ... \n",
      "\tDone after 12.14 min\n",
      "\tTraining network with observed:\n",
      "\t [0.14]\n",
      "\tand kernel bandwidth:\n",
      "\t [0.261]\n",
      "\tDone after 11.12 min\n",
      "Runtime:  1:53:39.314812  in total\n",
      "\n"
     ]
    }
   ],
   "source": [
    "\"\"\"\n",
    "fit all modes\n",
    "\"\"\"\n",
    "\n",
    "\n",
    "errors =  []  \n",
    "i=0\n",
    "for region_nr in [2]:# range(4):\n",
    "    try:\n",
    "        # choose mode\n",
    "        mode = modes[i]\n",
    "        # define nr of params dependent on mode\n",
    "        nparams = mode_params[i]\n",
    "\n",
    "        # specify input data we want to fit\n",
    "        input_data = np.copy(control_regionwise[region_nr]).flatten()\n",
    "\n",
    "        # specify \"cone output\" (opsins)\n",
    "        cone_out = block_regionwise[region_nr]# wave_blocked\n",
    "\n",
    "        # get class (opsins, mode,  nparams, recorded_data):\n",
    "        fit_model = DELFI_HC(cone_out, mode, nparams, input_data)\n",
    "\n",
    "        # initialize class\n",
    "        fit_model.initialize_model('gauss')\n",
    "\n",
    "\n",
    "        ####################################\n",
    "        filename = 'mode0_region_' + str(region_nr) + '_regionspecific_input_v0.pkl'\n",
    "\n",
    "        x0 = np.array([[0]])\n",
    "        rounds = 5\n",
    "        samples = 200000\n",
    "        logs, tds, posteriors, inf_snpe = fit_model.infer_params(rounds, samples, x0=x0, save=True, filename=filename)\n",
    "    \n",
    "    except Exception as error:\n",
    "        errors.append(dict(region_nr=region_nr,error=error))"
   ]
  },
  {
   "cell_type": "code",
   "execution_count": 65,
   "metadata": {},
   "outputs": [
    {
     "data": {
      "text/plain": [
       "[{'modenr': 0,\n",
       "  'error': numpy.linalg.LinAlgError('Matrix is not positive definite')}]"
      ]
     },
     "execution_count": 65,
     "metadata": {},
     "output_type": "execute_result"
    }
   ],
   "source": [
    "errors"
   ]
  },
  {
   "cell_type": "code",
   "execution_count": 9,
   "metadata": {},
   "outputs": [
    {
     "name": "stdout",
     "output_type": "stream",
     "text": [
      "Starting time for inference: 2019-10-23 07:19:08.612308\n",
      "\tRound: 1 of 10. \t Network training round: 1\n",
      "\tSampling 100000 samples ... \n"
     ]
    },
    {
     "data": {
      "application/vnd.jupyter.widget-view+json": {
       "model_id": "6e5bee7551dc44678612dec9b95720e9",
       "version_major": 2,
       "version_minor": 0
      },
      "text/plain": [
       "HBox(children=(IntProgress(value=0, max=100000), HTML(value='')))"
      ]
     },
     "metadata": {},
     "output_type": "display_data"
    },
    {
     "name": "stdout",
     "output_type": "stream",
     "text": [
      "\n"
     ]
    },
    {
     "data": {
      "application/vnd.jupyter.widget-view+json": {
       "model_id": "a868c745189048f29362484e6dc206a8",
       "version_major": 2,
       "version_minor": 0
      },
      "text/plain": [
       "HBox(children=(IntProgress(value=0, max=100000), HTML(value='')))"
      ]
     },
     "metadata": {},
     "output_type": "display_data"
    },
    {
     "name": "stdout",
     "output_type": "stream",
     "text": [
      "\n",
      "\tDone after 4.034 min\n",
      "\tTraining network with observed = 0.15 and bw = 0.1 ... "
     ]
    },
    {
     "data": {
      "application/vnd.jupyter.widget-view+json": {
       "model_id": "363fb622e1734eac850eb5d0977b2750",
       "version_major": 2,
       "version_minor": 0
      },
      "text/plain": [
       "HBox(children=(IntProgress(value=0, max=60000000), HTML(value='')))"
      ]
     },
     "metadata": {},
     "output_type": "display_data"
    },
    {
     "name": "stdout",
     "output_type": "stream",
     "text": [
      "\n",
      "\tDone after 4.027 min\n",
      "\tRound: 2 of 10. \t Network training round: 2\n",
      "\tSampling 100000 samples ... \n"
     ]
    },
    {
     "data": {
      "application/vnd.jupyter.widget-view+json": {
       "model_id": "53eff089fa654d119485142766c50c13",
       "version_major": 2,
       "version_minor": 0
      },
      "text/plain": [
       "HBox(children=(IntProgress(value=0, max=100000), HTML(value='')))"
      ]
     },
     "metadata": {},
     "output_type": "display_data"
    },
    {
     "name": "stdout",
     "output_type": "stream",
     "text": [
      "\n"
     ]
    },
    {
     "data": {
      "application/vnd.jupyter.widget-view+json": {
       "model_id": "439404c66bae47199c102594adcb64ce",
       "version_major": 2,
       "version_minor": 0
      },
      "text/plain": [
       "HBox(children=(IntProgress(value=0, max=100000), HTML(value='')))"
      ]
     },
     "metadata": {},
     "output_type": "display_data"
    },
    {
     "name": "stdout",
     "output_type": "stream",
     "text": [
      "\n",
      "\tDone after 5.053 min\n",
      "\tTraining network with observed = 0.13 and bw = 0.019 ... "
     ]
    },
    {
     "data": {
      "application/vnd.jupyter.widget-view+json": {
       "model_id": "fc14974418de488e89d085da60d8a223",
       "version_major": 2,
       "version_minor": 0
      },
      "text/plain": [
       "HBox(children=(IntProgress(value=0, max=60000000), HTML(value='')))"
      ]
     },
     "metadata": {},
     "output_type": "display_data"
    },
    {
     "name": "stdout",
     "output_type": "stream",
     "text": [
      "\n",
      "\tDone after 4.346 min\n",
      "\tRound: 3 of 10. \t Network training round: 3\n",
      "\tSampling 100000 samples ... \n"
     ]
    },
    {
     "data": {
      "application/vnd.jupyter.widget-view+json": {
       "model_id": "0160c3c3b86e4a88a09714b5f63702e9",
       "version_major": 2,
       "version_minor": 0
      },
      "text/plain": [
       "HBox(children=(IntProgress(value=0, max=100000), HTML(value='')))"
      ]
     },
     "metadata": {},
     "output_type": "display_data"
    },
    {
     "name": "stdout",
     "output_type": "stream",
     "text": [
      "\n"
     ]
    },
    {
     "data": {
      "application/vnd.jupyter.widget-view+json": {
       "model_id": "579e8e7a565d4646bbfca79eddb1d05c",
       "version_major": 2,
       "version_minor": 0
      },
      "text/plain": [
       "HBox(children=(IntProgress(value=0, max=100000), HTML(value='')))"
      ]
     },
     "metadata": {},
     "output_type": "display_data"
    },
    {
     "name": "stdout",
     "output_type": "stream",
     "text": [
      "\n",
      "\tDone after 5.151 min\n",
      "\tTraining network with observed = 0.13 and bw = 0.0019 ... "
     ]
    },
    {
     "data": {
      "application/vnd.jupyter.widget-view+json": {
       "model_id": "1630d5942634442db7f53b35e865623c",
       "version_major": 2,
       "version_minor": 0
      },
      "text/plain": [
       "HBox(children=(IntProgress(value=0, max=60000000), HTML(value='')))"
      ]
     },
     "metadata": {},
     "output_type": "display_data"
    },
    {
     "name": "stdout",
     "output_type": "stream",
     "text": [
      "\n",
      "\tDone after 4.087 min\n",
      "\tRound: 4 of 10. \t Network training round: 4\n",
      "\tSampling 100000 samples ... \n"
     ]
    },
    {
     "data": {
      "application/vnd.jupyter.widget-view+json": {
       "model_id": "d1e22a07b42243a4b4fde04d0ff7dfdb",
       "version_major": 2,
       "version_minor": 0
      },
      "text/plain": [
       "HBox(children=(IntProgress(value=0, max=100000), HTML(value='')))"
      ]
     },
     "metadata": {},
     "output_type": "display_data"
    },
    {
     "name": "stdout",
     "output_type": "stream",
     "text": [
      "\n"
     ]
    },
    {
     "data": {
      "application/vnd.jupyter.widget-view+json": {
       "model_id": "b345210503f24028a8e51ad1ef677d27",
       "version_major": 2,
       "version_minor": 0
      },
      "text/plain": [
       "HBox(children=(IntProgress(value=0, max=100000), HTML(value='')))"
      ]
     },
     "metadata": {},
     "output_type": "display_data"
    },
    {
     "name": "stdout",
     "output_type": "stream",
     "text": [
      "\n",
      "\tDone after 5.153 min\n",
      "\tTraining network with observed = 0.13 and bw = 0.00046 ... "
     ]
    },
    {
     "data": {
      "application/vnd.jupyter.widget-view+json": {
       "model_id": "dbf91bafe1cd46a7afaa6929b5a78f2e",
       "version_major": 2,
       "version_minor": 0
      },
      "text/plain": [
       "HBox(children=(IntProgress(value=0, max=60000000), HTML(value='')))"
      ]
     },
     "metadata": {},
     "output_type": "display_data"
    },
    {
     "name": "stdout",
     "output_type": "stream",
     "text": [
      "\n",
      "\tDone after 4.043 min\n",
      "\tRound: 5 of 10. \t Network training round: 5\n",
      "\tSampling 100000 samples ... \n"
     ]
    },
    {
     "data": {
      "application/vnd.jupyter.widget-view+json": {
       "model_id": "8a31c20f8d7f4a2cb9962e31094ab64e",
       "version_major": 2,
       "version_minor": 0
      },
      "text/plain": [
       "HBox(children=(IntProgress(value=0, max=100000), HTML(value='')))"
      ]
     },
     "metadata": {},
     "output_type": "display_data"
    },
    {
     "name": "stdout",
     "output_type": "stream",
     "text": [
      "\n"
     ]
    },
    {
     "data": {
      "application/vnd.jupyter.widget-view+json": {
       "model_id": "c7c772beaf474848ac8bc6924c128c45",
       "version_major": 2,
       "version_minor": 0
      },
      "text/plain": [
       "HBox(children=(IntProgress(value=0, max=100000), HTML(value='')))"
      ]
     },
     "metadata": {},
     "output_type": "display_data"
    },
    {
     "name": "stdout",
     "output_type": "stream",
     "text": [
      "\n",
      "\tDone after 5.224 min\n",
      "\tTraining network with observed = 0.13 and bw = 0.00022 ... "
     ]
    },
    {
     "data": {
      "application/vnd.jupyter.widget-view+json": {
       "model_id": "7497d0535c8d4949b596590251bf9e73",
       "version_major": 2,
       "version_minor": 0
      },
      "text/plain": [
       "HBox(children=(IntProgress(value=0, max=60000000), HTML(value='')))"
      ]
     },
     "metadata": {},
     "output_type": "display_data"
    },
    {
     "name": "stdout",
     "output_type": "stream",
     "text": [
      "\n",
      "\tDone after 4.445 min\n",
      "\tRound: 6 of 10. \t Network training round: 6\n",
      "\tSampling 100000 samples ... \n"
     ]
    },
    {
     "data": {
      "application/vnd.jupyter.widget-view+json": {
       "model_id": "e5e74e614e7d41109052e6377efab8be",
       "version_major": 2,
       "version_minor": 0
      },
      "text/plain": [
       "HBox(children=(IntProgress(value=0, max=100000), HTML(value='')))"
      ]
     },
     "metadata": {},
     "output_type": "display_data"
    },
    {
     "name": "stdout",
     "output_type": "stream",
     "text": [
      "\n"
     ]
    },
    {
     "data": {
      "application/vnd.jupyter.widget-view+json": {
       "model_id": "7976e86c348d4c6c853f3a27043b6472",
       "version_major": 2,
       "version_minor": 0
      },
      "text/plain": [
       "HBox(children=(IntProgress(value=0, max=100000), HTML(value='')))"
      ]
     },
     "metadata": {},
     "output_type": "display_data"
    },
    {
     "name": "stdout",
     "output_type": "stream",
     "text": [
      "\n",
      "\tDone after 5.245 min\n",
      "\tTraining network with observed = 0.13 and bw = 0.00016 ... "
     ]
    },
    {
     "data": {
      "application/vnd.jupyter.widget-view+json": {
       "model_id": "e370771206a94d65bf6c29aa81407623",
       "version_major": 2,
       "version_minor": 0
      },
      "text/plain": [
       "HBox(children=(IntProgress(value=0, max=60000000), HTML(value='')))"
      ]
     },
     "metadata": {},
     "output_type": "display_data"
    },
    {
     "name": "stdout",
     "output_type": "stream",
     "text": [
      "\n",
      "\tDone after 4.229 min\n",
      "\tRound: 7 of 10. \t Network training round: 7\n",
      "\tSampling 100000 samples ... \n"
     ]
    },
    {
     "data": {
      "application/vnd.jupyter.widget-view+json": {
       "model_id": "563454df01f34d9dba6c7578caaaa16c",
       "version_major": 2,
       "version_minor": 0
      },
      "text/plain": [
       "HBox(children=(IntProgress(value=0, max=100000), HTML(value='')))"
      ]
     },
     "metadata": {},
     "output_type": "display_data"
    },
    {
     "name": "stdout",
     "output_type": "stream",
     "text": [
      "\n"
     ]
    },
    {
     "data": {
      "application/vnd.jupyter.widget-view+json": {
       "model_id": "9f42219fd34e49df960f9f8ebe0dbd64",
       "version_major": 2,
       "version_minor": 0
      },
      "text/plain": [
       "HBox(children=(IntProgress(value=0, max=100000), HTML(value='')))"
      ]
     },
     "metadata": {},
     "output_type": "display_data"
    },
    {
     "name": "stdout",
     "output_type": "stream",
     "text": [
      "\n",
      "\tDone after 5.18 min\n",
      "\tTraining network with observed = 0.13 and bw = 0.00074 ... "
     ]
    },
    {
     "data": {
      "application/vnd.jupyter.widget-view+json": {
       "model_id": "157ae0ee81a346f0bf9469a988a1dbb6",
       "version_major": 2,
       "version_minor": 0
      },
      "text/plain": [
       "HBox(children=(IntProgress(value=0, max=60000000), HTML(value='')))"
      ]
     },
     "metadata": {},
     "output_type": "display_data"
    },
    {
     "name": "stdout",
     "output_type": "stream",
     "text": [
      "\n",
      "\tDone after 4.213 min\n",
      "\tRound: 8 of 10. \t Network training round: 8\n",
      "\tSampling 100000 samples ... \n"
     ]
    },
    {
     "data": {
      "application/vnd.jupyter.widget-view+json": {
       "model_id": "01550a62b06d4f93b3a95a8a02ac954c",
       "version_major": 2,
       "version_minor": 0
      },
      "text/plain": [
       "HBox(children=(IntProgress(value=0, max=100000), HTML(value='')))"
      ]
     },
     "metadata": {},
     "output_type": "display_data"
    },
    {
     "name": "stdout",
     "output_type": "stream",
     "text": [
      "\n"
     ]
    },
    {
     "data": {
      "application/vnd.jupyter.widget-view+json": {
       "model_id": "a5e19dc1c44344a2a752e8efffbf41b5",
       "version_major": 2,
       "version_minor": 0
      },
      "text/plain": [
       "HBox(children=(IntProgress(value=0, max=100000), HTML(value='')))"
      ]
     },
     "metadata": {},
     "output_type": "display_data"
    },
    {
     "name": "stdout",
     "output_type": "stream",
     "text": [
      "\n",
      "\tDone after 5.271 min\n",
      "\tTraining network with observed = 0.13 and bw = 0.0012 ... "
     ]
    },
    {
     "data": {
      "application/vnd.jupyter.widget-view+json": {
       "model_id": "8d807e7f06b34c938a93d2c5db99a3cd",
       "version_major": 2,
       "version_minor": 0
      },
      "text/plain": [
       "HBox(children=(IntProgress(value=0, max=60000000), HTML(value='')))"
      ]
     },
     "metadata": {},
     "output_type": "display_data"
    },
    {
     "name": "stdout",
     "output_type": "stream",
     "text": [
      "\n",
      "\tDone after 4.146 min\n",
      "\tRound: 9 of 10. \t Network training round: 9\n",
      "\tSampling 100000 samples ... \n"
     ]
    },
    {
     "data": {
      "application/vnd.jupyter.widget-view+json": {
       "model_id": "46d0371cc1e34441ad44c934febe80bb",
       "version_major": 2,
       "version_minor": 0
      },
      "text/plain": [
       "HBox(children=(IntProgress(value=0, max=100000), HTML(value='')))"
      ]
     },
     "metadata": {},
     "output_type": "display_data"
    },
    {
     "name": "stdout",
     "output_type": "stream",
     "text": [
      "\n"
     ]
    },
    {
     "data": {
      "application/vnd.jupyter.widget-view+json": {
       "model_id": "9936c29f3ed540558740855c80e0a8c0",
       "version_major": 2,
       "version_minor": 0
      },
      "text/plain": [
       "HBox(children=(IntProgress(value=0, max=100000), HTML(value='')))"
      ]
     },
     "metadata": {},
     "output_type": "display_data"
    },
    {
     "name": "stdout",
     "output_type": "stream",
     "text": [
      "\n",
      "\tDone after 5.306 min\n",
      "\tTraining network with observed = 0.13 and bw = 0.00068 ... "
     ]
    },
    {
     "data": {
      "application/vnd.jupyter.widget-view+json": {
       "model_id": "2b62f4d9963d496087f80ffd6c047e9a",
       "version_major": 2,
       "version_minor": 0
      },
      "text/plain": [
       "HBox(children=(IntProgress(value=0, max=60000000), HTML(value='')))"
      ]
     },
     "metadata": {},
     "output_type": "display_data"
    },
    {
     "name": "stdout",
     "output_type": "stream",
     "text": [
      "\n",
      "\tDone after 4.298 min\n",
      "\tRound: 10 of 10. \t Network training round: 10\n",
      "\tSampling 100000 samples ... \n"
     ]
    },
    {
     "data": {
      "application/vnd.jupyter.widget-view+json": {
       "model_id": "752853b9aa074009a5b22eb01dbd1f59",
       "version_major": 2,
       "version_minor": 0
      },
      "text/plain": [
       "HBox(children=(IntProgress(value=0, max=100000), HTML(value='')))"
      ]
     },
     "metadata": {},
     "output_type": "display_data"
    },
    {
     "name": "stdout",
     "output_type": "stream",
     "text": [
      "\n"
     ]
    },
    {
     "data": {
      "application/vnd.jupyter.widget-view+json": {
       "model_id": "c5f86f3f183e4f039e02c97805f839c7",
       "version_major": 2,
       "version_minor": 0
      },
      "text/plain": [
       "HBox(children=(IntProgress(value=0, max=100000), HTML(value='')))"
      ]
     },
     "metadata": {},
     "output_type": "display_data"
    },
    {
     "name": "stdout",
     "output_type": "stream",
     "text": [
      "\n",
      "\tDone after 5.316 min\n",
      "\tTraining network with observed = 0.13 and bw = 0.00071 ... "
     ]
    },
    {
     "data": {
      "application/vnd.jupyter.widget-view+json": {
       "model_id": "3c9fc17879094815b1f6ea0a930bcaa3",
       "version_major": 2,
       "version_minor": 0
      },
      "text/plain": [
       "HBox(children=(IntProgress(value=0, max=60000000), HTML(value='')))"
      ]
     },
     "metadata": {},
     "output_type": "display_data"
    },
    {
     "name": "stdout",
     "output_type": "stream",
     "text": [
      "\n",
      "\tDone after 4.393 min\n",
      "Runtime:  1:33:43.247481  in total\n",
      "\n"
     ]
    }
   ],
   "source": [
    "\"\"\"\n",
    "fit one mode\n",
    "\"\"\"\n",
    "# choose mode\n",
    "mode = special_mode[0] #modes[4]\n",
    "# define nr of params dependent on mode\n",
    "nparams = special_nrparmas #mode_params[4]\n",
    "\n",
    "# specify input data we want to fit\n",
    "input_data = np.copy(wave_normal).flatten()\n",
    "\n",
    "# specify \"cone output\" (opsins)\n",
    "\n",
    "cone_out = wave_blocked\n",
    "\n",
    "# get class (opsins, mode,  nparams, recorded_data):\n",
    "fit_model = DELFI_HC(cone_out, mode, nparams, input_data)\n",
    "\n",
    "# initialize class\n",
    "fit_model.initialize_model('gauss')\n",
    "\n",
    "\n",
    "####################################\n",
    "filename = 'mode_specialH0full_0.pkl'\n",
    "\n",
    "x0 = np.array([[0]])\n",
    "rounds = 10\n",
    "samples = 100000\n",
    "logs, tds, posteriors, inf_snpe = fit_model.infer_params(rounds, samples, x0=x0, save=True, filename=filename)"
   ]
  },
  {
   "cell_type": "code",
   "execution_count": 33,
   "metadata": {},
   "outputs": [
    {
     "data": {
      "image/png": "[encoded data removed]",
      "text/plain": [
       "<Figure size 432x288 with 1 Axes>"
      ]
     },
     "metadata": {
      "needs_background": "light"
     },
     "output_type": "display_data"
    }
   ],
   "source": [
    "\"\"\"\n",
    "plot loss of training\n",
    "\"\"\"\n",
    "# only plot every filterns elt\n",
    "filtern = 1\n",
    "for i in range(3,5):\n",
    "    plt.plot(logs[i]['loss'][::filtern],'o', label = i)\n",
    "    #plt.ylim(-0.1,0.2)\n",
    "    plt.legend()\n",
    "plt.show()"
   ]
  },
  {
   "cell_type": "code",
   "execution_count": 35,
   "metadata": {},
   "outputs": [
    {
     "data": {
      "text/plain": [
       "Text(0.5, 0, 'round')"
      ]
     },
     "execution_count": 35,
     "metadata": {},
     "output_type": "execute_result"
    },
    {
     "data": {
      "image/png": "[encoded data removed]",
      "text/plain": [
       "<Figure size 432x288 with 1 Axes>"
      ]
     },
     "metadata": {
      "needs_background": "light"
     },
     "output_type": "display_data"
    }
   ],
   "source": [
    "\"\"\"\n",
    "plot pseudo observations\n",
    "\"\"\"\n",
    "\n",
    "# nr of rounds\n",
    "n = 5\n",
    "\n",
    "plt.title('Observed values - calculated as percentiles')\n",
    "\n",
    "plt.plot(np.arange(0,n),np.array(inf_snpe.pseudo_obs).flatten(), label='run 1')\n",
    "\n",
    "#plt.ylim(-0.1,3.5)\n",
    "#plt.legend()\n",
    "plt.xticks(np.arange(0,n))\n",
    "plt.xlabel('round')\n",
    "#plt.ylim(0)\n"
   ]
  }
 ],
 "metadata": {
  "kernelspec": {
   "display_name": "Python 3",
   "language": "python",
   "name": "python3"
  },
  "language_info": {
   "codemirror_mode": {
    "name": "ipython",
    "version": 3
   },
   "file_extension": ".py",
   "mimetype": "text/x-python",
   "name": "python",
   "nbconvert_exporter": "python",
   "pygments_lexer": "ipython3",
   "version": "3.8.0"
  },
  "varInspector": {
   "cols": {
    "lenName": 16,
    "lenType": 16,
    "lenVar": 40
   },
   "kernels_config": {
    "python": {
     "delete_cmd_postfix": "",
     "delete_cmd_prefix": "del ",
     "library": "var_list.py",
     "varRefreshCmd": "print(var_dic_list())"
    },
    "r": {
     "delete_cmd_postfix": ") ",
     "delete_cmd_prefix": "rm(",
     "library": "var_list.r",
     "varRefreshCmd": "cat(var_dic_list()) "
    }
   },
   "types_to_exclude": [
    "module",
    "function",
    "builtin_function_or_method",
    "instance",
    "_Feature"
   ],
   "window_display": false
  }
 },
 "nbformat": 4,
 "nbformat_minor": 4
}
